{
 "cells": [
  {
   "cell_type": "markdown",
   "metadata": {},
   "source": [
    "### Setup:\n",
    "\n",
    "Create github repo and enable Github Pages in settings.\n",
    "Set branch for Github Pages to gh-pages.\n",
    "\n",
    "pip install nbdev\n",
    "pip install jupyterlab-quarto\n",
    "\n",
    "nbdev_install_quarto\n",
    "and/or install quarto CLI (installer on quarto.org)\n",
    "\n",
    "nbdev_new produces error \"ValueError: max_workers must be <= 61\"\n",
    "--> fix by limiting workers in Lib\\site-packages\\nbdev\\serve.py, e.g.:\n",
    "parallel(nbdev.serve_drv.main, files, n_workers=min(n_workers, 32), pause=0.01, **kw)\n",
    "\n",
    "nbdev_new\n",
    "\n",
    "nbdev_install_hooks\n",
    "In case of \"Not in a git repository, git hooks cannot be installed.\" --> Make sure git is part of PATH\n",
    "\n",
    "Create python package with\n",
    "nbdev_export\n",
    "\n",
    "To install created package:\n",
    "pip install -e .\n",
    "\n",
    "### Preview in local browser:\n",
    "\n",
    "nbdev_preview\n",
    "\n",
    "### Create notebooks with export directives:\n",
    "\n",
    "Cells with export will be written to .py files in the module.\n",
    "\n",
    "https://nbdev.fast.ai/explanations/directives.html\n",
    "\n",
    "Finally nbdev_export will export the notebooks. Or put this at the end of each notebook:\n",
    "#| hide\n",
    "import nbdev; nbdev.nbdev_export()\n",
    "\n",
    "nbdev_prepare also runs export and additionally clean, test and readme update.\n",
    "\n",
    "### Create docs for Github Pages:\n",
    "\n",
    "nbdev_docs creates the HTML documentation files for Github pages. (Not necessary after prepare?)"
   ]
  }
 ],
 "metadata": {
  "kernelspec": {
   "display_name": "venv",
   "language": "python",
   "name": "python3"
  },
  "language_info": {
   "codemirror_mode": {
    "name": "ipython",
    "version": 3
   },
   "file_extension": ".py",
   "mimetype": "text/x-python",
   "name": "python",
   "nbconvert_exporter": "python",
   "pygments_lexer": "ipython3",
   "version": "3.8.9"
  },
  "orig_nbformat": 4
 },
 "nbformat": 4,
 "nbformat_minor": 2
}

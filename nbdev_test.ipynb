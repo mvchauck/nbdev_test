{
 "cells": [
  {
   "cell_type": "code",
   "execution_count": null,
   "metadata": {},
   "outputs": [],
   "source": [
    "!pip install nbdev\n",
    "!pip install jupyterlab-quarto"
   ]
  },
  {
   "cell_type": "code",
   "execution_count": null,
   "metadata": {},
   "outputs": [],
   "source": [
    "# nbdev_new produces error \"ValueError: max_workers must be <= 61\"\n",
    "# --> fix by limiting workers in Lib\\site-packages\\nbdev\\serve.py, e.g.:\n",
    "# parallel(nbdev.serve_drv.main, files, n_workers=min(n_workers, 32), pause=0.01, **kw)\n",
    "\n",
    "#nbdev_new\n",
    "\n",
    "# run nbdev_install_hooks\n",
    "#Not in a git repository, git hooks cannot be installed. --> Make sure git is part of PATH\n",
    "\n",
    "#run nbdev_export\n",
    "\n",
    "#pip install -e\n",
    "\n",
    "#nbdev_docs"
   ]
  },
  {
   "cell_type": "code",
   "execution_count": 4,
   "metadata": {},
   "outputs": [],
   "source": [
    "#| hide\n",
    "import nbdev; nbdev.nbdev_export()"
   ]
  },
  {
   "cell_type": "code",
   "execution_count": 1,
   "metadata": {},
   "outputs": [
    {
     "name": "stdout",
     "output_type": "stream",
     "text": [
      "Success.\n"
     ]
    },
    {
     "name": "stderr",
     "output_type": "stream",
     "text": [
      "pandoc -o README.md\n",
      "  to: >-\n",
      "    commonmark+autolink_bare_uris+emoji+footnotes+gfm_auto_identifiers+pipe_tables+strikeout+task_lists+tex_math_dollars\n",
      "  output-file: index.html\n",
      "  standalone: true\n",
      "  default-image-extension: png\n",
      "  \n",
      "metadata\n",
      "  title: nbdev_test\n",
      "  \n",
      "Output created: _docs\\README.md\n",
      "\n"
     ]
    }
   ],
   "source": [
    "#better:\n",
    "!nbdev_prepare"
   ]
  },
  {
   "cell_type": "code",
   "execution_count": null,
   "metadata": {},
   "outputs": [],
   "source": []
  }
 ],
 "metadata": {
  "kernelspec": {
   "display_name": "venv",
   "language": "python",
   "name": "python3"
  },
  "language_info": {
   "codemirror_mode": {
    "name": "ipython",
    "version": 3
   },
   "file_extension": ".py",
   "mimetype": "text/x-python",
   "name": "python",
   "nbconvert_exporter": "python",
   "pygments_lexer": "ipython3",
   "version": "3.8.9"
  },
  "orig_nbformat": 4
 },
 "nbformat": 4,
 "nbformat_minor": 2
}
